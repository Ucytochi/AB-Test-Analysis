{
 "cells": [
  {
   "cell_type": "markdown",
   "id": "running-arlington",
   "metadata": {},
   "source": [
    "<a id='files_information'></a>\n",
    "## Step 1. Files Information "
   ]
  },
  {
   "cell_type": "code",
   "execution_count": 1,
   "id": "female-morrison",
   "metadata": {},
   "outputs": [],
   "source": [
    "# Import Libraries\n",
    "import pandas as pd\n",
    "import datetime as dt\n",
    "import matplotlib.pyplot as plt\n",
    "import numpy as np\n",
    "import scipy.stats as stats\n",
    "\n",
    "pd.set_option('max_colwidth', 400)"
   ]
  },
  {
   "cell_type": "code",
   "execution_count": 2,
   "id": "banned-ireland",
   "metadata": {},
   "outputs": [],
   "source": [
    "hypotheses = pd.read_csv('hypotheses_us.csv', sep=';')\n",
    "orders = pd.read_csv('orders_us.csv')\n",
    "visits = pd.read_csv('visits_us.csv')"
   ]
  },
  {
   "cell_type": "markdown",
   "id": "consistent-limit",
   "metadata": {},
   "source": [
    "<b>Hypotheses Dataset</b>"
   ]
  },
  {
   "cell_type": "code",
   "execution_count": 3,
   "id": "dba5007a",
   "metadata": {},
   "outputs": [],
   "source": [
    "# Change the column names to small cases\n",
    "empty_list = []\n",
    "for col in hypotheses.columns.tolist():\n",
    "    empty_list.append(col.lower())\n",
    "hypotheses.columns =  empty_list"
   ]
  },
  {
   "cell_type": "code",
   "execution_count": 4,
   "id": "expensive-diagnosis",
   "metadata": {},
   "outputs": [
    {
     "data": {
      "text/html": [
       "<div>\n",
       "<style scoped>\n",
       "    .dataframe tbody tr th:only-of-type {\n",
       "        vertical-align: middle;\n",
       "    }\n",
       "\n",
       "    .dataframe tbody tr th {\n",
       "        vertical-align: top;\n",
       "    }\n",
       "\n",
       "    .dataframe thead th {\n",
       "        text-align: right;\n",
       "    }\n",
       "</style>\n",
       "<table border=\"1\" class=\"dataframe\">\n",
       "  <thead>\n",
       "    <tr style=\"text-align: right;\">\n",
       "      <th></th>\n",
       "      <th>hypothesis</th>\n",
       "      <th>reach</th>\n",
       "      <th>impact</th>\n",
       "      <th>confidence</th>\n",
       "      <th>effort</th>\n",
       "    </tr>\n",
       "  </thead>\n",
       "  <tbody>\n",
       "    <tr>\n",
       "      <th>0</th>\n",
       "      <td>Add two new channels for attracting traffic. This will bring 30% more users</td>\n",
       "      <td>3</td>\n",
       "      <td>10</td>\n",
       "      <td>8</td>\n",
       "      <td>6</td>\n",
       "    </tr>\n",
       "    <tr>\n",
       "      <th>1</th>\n",
       "      <td>Launch your own delivery service. This will shorten delivery time</td>\n",
       "      <td>2</td>\n",
       "      <td>5</td>\n",
       "      <td>4</td>\n",
       "      <td>10</td>\n",
       "    </tr>\n",
       "    <tr>\n",
       "      <th>2</th>\n",
       "      <td>Add product recommendation blocks to the store's site. This will increase conversion and average purchase size</td>\n",
       "      <td>8</td>\n",
       "      <td>3</td>\n",
       "      <td>7</td>\n",
       "      <td>3</td>\n",
       "    </tr>\n",
       "    <tr>\n",
       "      <th>3</th>\n",
       "      <td>Change the category structure. This will increase conversion since users will find the products they want more quickly</td>\n",
       "      <td>8</td>\n",
       "      <td>3</td>\n",
       "      <td>3</td>\n",
       "      <td>8</td>\n",
       "    </tr>\n",
       "    <tr>\n",
       "      <th>4</th>\n",
       "      <td>Change the background color on the main page. This will increase user engagement</td>\n",
       "      <td>3</td>\n",
       "      <td>1</td>\n",
       "      <td>1</td>\n",
       "      <td>1</td>\n",
       "    </tr>\n",
       "    <tr>\n",
       "      <th>5</th>\n",
       "      <td>Add a customer review page. This will increase the number of orders</td>\n",
       "      <td>3</td>\n",
       "      <td>2</td>\n",
       "      <td>2</td>\n",
       "      <td>3</td>\n",
       "    </tr>\n",
       "    <tr>\n",
       "      <th>6</th>\n",
       "      <td>Show banners with current offers and sales on the main page. This will boost conversion</td>\n",
       "      <td>5</td>\n",
       "      <td>3</td>\n",
       "      <td>8</td>\n",
       "      <td>3</td>\n",
       "    </tr>\n",
       "    <tr>\n",
       "      <th>7</th>\n",
       "      <td>Add a subscription form to all the main pages. This will help you compile a mailing list</td>\n",
       "      <td>10</td>\n",
       "      <td>7</td>\n",
       "      <td>8</td>\n",
       "      <td>5</td>\n",
       "    </tr>\n",
       "    <tr>\n",
       "      <th>8</th>\n",
       "      <td>Launch a promotion that gives users discounts on their birthdays</td>\n",
       "      <td>1</td>\n",
       "      <td>9</td>\n",
       "      <td>9</td>\n",
       "      <td>5</td>\n",
       "    </tr>\n",
       "  </tbody>\n",
       "</table>\n",
       "</div>"
      ],
      "text/plain": [
       "                                                                                                               hypothesis  \\\n",
       "0                                             Add two new channels for attracting traffic. This will bring 30% more users   \n",
       "1                                                       Launch your own delivery service. This will shorten delivery time   \n",
       "2          Add product recommendation blocks to the store's site. This will increase conversion and average purchase size   \n",
       "3  Change the category structure. This will increase conversion since users will find the products they want more quickly   \n",
       "4                                        Change the background color on the main page. This will increase user engagement   \n",
       "5                                                     Add a customer review page. This will increase the number of orders   \n",
       "6                                 Show banners with current offers and sales on the main page. This will boost conversion   \n",
       "7                                Add a subscription form to all the main pages. This will help you compile a mailing list   \n",
       "8                                                        Launch a promotion that gives users discounts on their birthdays   \n",
       "\n",
       "   reach  impact  confidence  effort  \n",
       "0      3      10           8       6  \n",
       "1      2       5           4      10  \n",
       "2      8       3           7       3  \n",
       "3      8       3           3       8  \n",
       "4      3       1           1       1  \n",
       "5      3       2           2       3  \n",
       "6      5       3           8       3  \n",
       "7     10       7           8       5  \n",
       "8      1       9           9       5  "
      ]
     },
     "metadata": {},
     "output_type": "display_data"
    },
    {
     "name": "stdout",
     "output_type": "stream",
     "text": [
      "<class 'pandas.core.frame.DataFrame'>\n",
      "RangeIndex: 9 entries, 0 to 8\n",
      "Data columns (total 5 columns):\n",
      " #   Column      Non-Null Count  Dtype \n",
      "---  ------      --------------  ----- \n",
      " 0   hypothesis  9 non-null      object\n",
      " 1   reach       9 non-null      int64 \n",
      " 2   impact      9 non-null      int64 \n",
      " 3   confidence  9 non-null      int64 \n",
      " 4   effort      9 non-null      int64 \n",
      "dtypes: int64(4), object(1)\n",
      "memory usage: 488.0+ bytes\n"
     ]
    },
    {
     "data": {
      "text/plain": [
       "None"
      ]
     },
     "metadata": {},
     "output_type": "display_data"
    }
   ],
   "source": [
    "display(hypotheses)\n",
    "display(hypotheses.info())"
   ]
  },
  {
   "cell_type": "markdown",
   "id": "willing-address",
   "metadata": {},
   "source": [
    "<b>Orders Dataset</b>"
   ]
  },
  {
   "cell_type": "code",
   "execution_count": 5,
   "id": "quiet-shade",
   "metadata": {},
   "outputs": [
    {
     "data": {
      "text/html": [
       "<div>\n",
       "<style scoped>\n",
       "    .dataframe tbody tr th:only-of-type {\n",
       "        vertical-align: middle;\n",
       "    }\n",
       "\n",
       "    .dataframe tbody tr th {\n",
       "        vertical-align: top;\n",
       "    }\n",
       "\n",
       "    .dataframe thead th {\n",
       "        text-align: right;\n",
       "    }\n",
       "</style>\n",
       "<table border=\"1\" class=\"dataframe\">\n",
       "  <thead>\n",
       "    <tr style=\"text-align: right;\">\n",
       "      <th></th>\n",
       "      <th>transactionId</th>\n",
       "      <th>visitorId</th>\n",
       "      <th>date</th>\n",
       "      <th>revenue</th>\n",
       "      <th>group</th>\n",
       "    </tr>\n",
       "  </thead>\n",
       "  <tbody>\n",
       "    <tr>\n",
       "      <th>0</th>\n",
       "      <td>3667963787</td>\n",
       "      <td>3312258926</td>\n",
       "      <td>2019-08-15</td>\n",
       "      <td>30.4</td>\n",
       "      <td>B</td>\n",
       "    </tr>\n",
       "    <tr>\n",
       "      <th>1</th>\n",
       "      <td>2804400009</td>\n",
       "      <td>3642806036</td>\n",
       "      <td>2019-08-15</td>\n",
       "      <td>15.2</td>\n",
       "      <td>B</td>\n",
       "    </tr>\n",
       "    <tr>\n",
       "      <th>2</th>\n",
       "      <td>2961555356</td>\n",
       "      <td>4069496402</td>\n",
       "      <td>2019-08-15</td>\n",
       "      <td>10.2</td>\n",
       "      <td>A</td>\n",
       "    </tr>\n",
       "    <tr>\n",
       "      <th>3</th>\n",
       "      <td>3797467345</td>\n",
       "      <td>1196621759</td>\n",
       "      <td>2019-08-15</td>\n",
       "      <td>155.1</td>\n",
       "      <td>B</td>\n",
       "    </tr>\n",
       "    <tr>\n",
       "      <th>4</th>\n",
       "      <td>2282983706</td>\n",
       "      <td>2322279887</td>\n",
       "      <td>2019-08-15</td>\n",
       "      <td>40.5</td>\n",
       "      <td>B</td>\n",
       "    </tr>\n",
       "  </tbody>\n",
       "</table>\n",
       "</div>"
      ],
      "text/plain": [
       "   transactionId   visitorId        date  revenue group\n",
       "0     3667963787  3312258926  2019-08-15     30.4     B\n",
       "1     2804400009  3642806036  2019-08-15     15.2     B\n",
       "2     2961555356  4069496402  2019-08-15     10.2     A\n",
       "3     3797467345  1196621759  2019-08-15    155.1     B\n",
       "4     2282983706  2322279887  2019-08-15     40.5     B"
      ]
     },
     "metadata": {},
     "output_type": "display_data"
    },
    {
     "name": "stdout",
     "output_type": "stream",
     "text": [
      "<class 'pandas.core.frame.DataFrame'>\n",
      "RangeIndex: 1197 entries, 0 to 1196\n",
      "Data columns (total 5 columns):\n",
      " #   Column         Non-Null Count  Dtype  \n",
      "---  ------         --------------  -----  \n",
      " 0   transactionId  1197 non-null   int64  \n",
      " 1   visitorId      1197 non-null   int64  \n",
      " 2   date           1197 non-null   object \n",
      " 3   revenue        1197 non-null   float64\n",
      " 4   group          1197 non-null   object \n",
      "dtypes: float64(1), int64(2), object(2)\n",
      "memory usage: 46.9+ KB\n"
     ]
    },
    {
     "data": {
      "text/plain": [
       "None"
      ]
     },
     "metadata": {},
     "output_type": "display_data"
    },
    {
     "data": {
      "text/html": [
       "<div>\n",
       "<style scoped>\n",
       "    .dataframe tbody tr th:only-of-type {\n",
       "        vertical-align: middle;\n",
       "    }\n",
       "\n",
       "    .dataframe tbody tr th {\n",
       "        vertical-align: top;\n",
       "    }\n",
       "\n",
       "    .dataframe thead th {\n",
       "        text-align: right;\n",
       "    }\n",
       "</style>\n",
       "<table border=\"1\" class=\"dataframe\">\n",
       "  <thead>\n",
       "    <tr style=\"text-align: right;\">\n",
       "      <th></th>\n",
       "      <th>transactionId</th>\n",
       "      <th>visitorId</th>\n",
       "      <th>date</th>\n",
       "      <th>revenue</th>\n",
       "      <th>group</th>\n",
       "    </tr>\n",
       "  </thead>\n",
       "  <tbody>\n",
       "  </tbody>\n",
       "</table>\n",
       "</div>"
      ],
      "text/plain": [
       "Empty DataFrame\n",
       "Columns: [transactionId, visitorId, date, revenue, group]\n",
       "Index: []"
      ]
     },
     "metadata": {},
     "output_type": "display_data"
    }
   ],
   "source": [
    "display(orders.head())\n",
    "display(orders.info())\n",
    "display(orders[orders.duplicated()])"
   ]
  },
  {
   "cell_type": "markdown",
   "id": "responsible-senate",
   "metadata": {},
   "source": [
    "<b>Visits Datatset</b> "
   ]
  },
  {
   "cell_type": "code",
   "execution_count": 6,
   "id": "express-calculator",
   "metadata": {},
   "outputs": [
    {
     "data": {
      "text/html": [
       "<div>\n",
       "<style scoped>\n",
       "    .dataframe tbody tr th:only-of-type {\n",
       "        vertical-align: middle;\n",
       "    }\n",
       "\n",
       "    .dataframe tbody tr th {\n",
       "        vertical-align: top;\n",
       "    }\n",
       "\n",
       "    .dataframe thead th {\n",
       "        text-align: right;\n",
       "    }\n",
       "</style>\n",
       "<table border=\"1\" class=\"dataframe\">\n",
       "  <thead>\n",
       "    <tr style=\"text-align: right;\">\n",
       "      <th></th>\n",
       "      <th>date</th>\n",
       "      <th>group</th>\n",
       "      <th>visits</th>\n",
       "    </tr>\n",
       "  </thead>\n",
       "  <tbody>\n",
       "    <tr>\n",
       "      <th>0</th>\n",
       "      <td>2019-08-01</td>\n",
       "      <td>A</td>\n",
       "      <td>719</td>\n",
       "    </tr>\n",
       "    <tr>\n",
       "      <th>1</th>\n",
       "      <td>2019-08-02</td>\n",
       "      <td>A</td>\n",
       "      <td>619</td>\n",
       "    </tr>\n",
       "    <tr>\n",
       "      <th>2</th>\n",
       "      <td>2019-08-03</td>\n",
       "      <td>A</td>\n",
       "      <td>507</td>\n",
       "    </tr>\n",
       "    <tr>\n",
       "      <th>3</th>\n",
       "      <td>2019-08-04</td>\n",
       "      <td>A</td>\n",
       "      <td>717</td>\n",
       "    </tr>\n",
       "    <tr>\n",
       "      <th>4</th>\n",
       "      <td>2019-08-05</td>\n",
       "      <td>A</td>\n",
       "      <td>756</td>\n",
       "    </tr>\n",
       "  </tbody>\n",
       "</table>\n",
       "</div>"
      ],
      "text/plain": [
       "         date group  visits\n",
       "0  2019-08-01     A     719\n",
       "1  2019-08-02     A     619\n",
       "2  2019-08-03     A     507\n",
       "3  2019-08-04     A     717\n",
       "4  2019-08-05     A     756"
      ]
     },
     "metadata": {},
     "output_type": "display_data"
    },
    {
     "name": "stdout",
     "output_type": "stream",
     "text": [
      "<class 'pandas.core.frame.DataFrame'>\n",
      "RangeIndex: 62 entries, 0 to 61\n",
      "Data columns (total 3 columns):\n",
      " #   Column  Non-Null Count  Dtype \n",
      "---  ------  --------------  ----- \n",
      " 0   date    62 non-null     object\n",
      " 1   group   62 non-null     object\n",
      " 2   visits  62 non-null     int64 \n",
      "dtypes: int64(1), object(2)\n",
      "memory usage: 1.6+ KB\n"
     ]
    },
    {
     "data": {
      "text/plain": [
       "None"
      ]
     },
     "metadata": {},
     "output_type": "display_data"
    },
    {
     "data": {
      "text/html": [
       "<div>\n",
       "<style scoped>\n",
       "    .dataframe tbody tr th:only-of-type {\n",
       "        vertical-align: middle;\n",
       "    }\n",
       "\n",
       "    .dataframe tbody tr th {\n",
       "        vertical-align: top;\n",
       "    }\n",
       "\n",
       "    .dataframe thead th {\n",
       "        text-align: right;\n",
       "    }\n",
       "</style>\n",
       "<table border=\"1\" class=\"dataframe\">\n",
       "  <thead>\n",
       "    <tr style=\"text-align: right;\">\n",
       "      <th></th>\n",
       "      <th>date</th>\n",
       "      <th>group</th>\n",
       "      <th>visits</th>\n",
       "    </tr>\n",
       "  </thead>\n",
       "  <tbody>\n",
       "  </tbody>\n",
       "</table>\n",
       "</div>"
      ],
      "text/plain": [
       "Empty DataFrame\n",
       "Columns: [date, group, visits]\n",
       "Index: []"
      ]
     },
     "metadata": {},
     "output_type": "display_data"
    },
    {
     "data": {
      "text/plain": [
       "array([719, 619, 507, 717, 756, 667, 644, 610, 617, 406, 718, 595, 748,\n",
       "       735, 628, 361, 412, 668, 502, 575, 646, 609, 468, 395, 621, 722,\n",
       "       711, 594, 577, 490, 699, 713, 581, 509, 770, 707, 655, 709, 654,\n",
       "       369, 721, 543, 769, 746, 544, 413, 421, 737, 487, 560, 656, 650,\n",
       "       546, 378, 679, 676, 720, 531])"
      ]
     },
     "metadata": {},
     "output_type": "display_data"
    }
   ],
   "source": [
    "display(visits.head())\n",
    "display(visits.info())\n",
    "display(visits[visits.duplicated()])\n",
    "display(visits['visits'].unique())"
   ]
  },
  {
   "cell_type": "markdown",
   "id": "distributed-business",
   "metadata": {},
   "source": [
    "<a id='data_preprocessing'></a>\n",
    "## Step 2. Data Preprocessing "
   ]
  },
  {
   "cell_type": "code",
   "execution_count": 7,
   "id": "wrong-romantic",
   "metadata": {},
   "outputs": [],
   "source": [
    "orders['date'] = pd.to_datetime(orders['date'], dayfirst=True)\n",
    "\n",
    "visits['date'] = pd.to_datetime(visits['date'], dayfirst=True)"
   ]
  },
  {
   "cell_type": "code",
   "execution_count": 8,
   "id": "varying-denmark",
   "metadata": {
    "scrolled": false
   },
   "outputs": [
    {
     "data": {
      "text/plain": [
       "1031"
      ]
     },
     "metadata": {},
     "output_type": "display_data"
    },
    {
     "data": {
      "text/plain": [
       "58"
      ]
     },
     "metadata": {},
     "output_type": "display_data"
    },
    {
     "data": {
      "text/plain": [
       "973"
      ]
     },
     "metadata": {},
     "output_type": "display_data"
    }
   ],
   "source": [
    "# Group the orders df into their respective groups\n",
    "groupA = orders[orders['group'] == 'A']\n",
    "groupB = orders[orders['group'] == 'B']\n",
    "\n",
    "display(len(orders.visitorId.unique()))\n",
    "\n",
    "# Merge the two grouped df\n",
    "merge_sample = groupA.merge(groupB, on='visitorId', how='inner')\n",
    "display(len(merge_sample.visitorId.unique()))\n",
    "\n",
    "# Filter out the 'visitorId' belonging to the two groups\n",
    "new_orders = orders[~orders['visitorId'].isin(list(merge_sample['visitorId']))]\n",
    "display(len(new_orders.visitorId.unique()))"
   ]
  },
  {
   "cell_type": "markdown",
   "id": "a5ae1584",
   "metadata": {},
   "source": [
    "<b>Conclusion</b>\n",
    "\n",
    "Here, we converted the date column to datetime format and to show the date only\n",
    "\n",
    "Some visitorIds in orders dataframe belong to group A as well as group B and since the purpose of our project is to analyze/compare the two groups, we filtered out those that belong to those two groups as it might compromise the reliability of the result of our analysis. \n",
    "\n",
    "It is noteworthy to say that for the visits dataframe, this set of visitorIds that belong to two groups already have their visits aggregated with the rest of the visitors and there is little or nothing we could do to filter them out from the dataset.  "
   ]
  },
  {
   "cell_type": "markdown",
   "id": "compound-pricing",
   "metadata": {},
   "source": [
    "<a id='hypotheses'></a>\n",
    "## Step 3. Prioritizing Hypotheses"
   ]
  },
  {
   "cell_type": "markdown",
   "id": "collective-shelf",
   "metadata": {},
   "source": [
    "<b>Apply the ICE framework to prioritize hypotheses.</b>"
   ]
  },
  {
   "cell_type": "code",
   "execution_count": 9,
   "id": "loving-check",
   "metadata": {},
   "outputs": [
    {
     "data": {
      "text/html": [
       "<div>\n",
       "<style scoped>\n",
       "    .dataframe tbody tr th:only-of-type {\n",
       "        vertical-align: middle;\n",
       "    }\n",
       "\n",
       "    .dataframe tbody tr th {\n",
       "        vertical-align: top;\n",
       "    }\n",
       "\n",
       "    .dataframe thead th {\n",
       "        text-align: right;\n",
       "    }\n",
       "</style>\n",
       "<table border=\"1\" class=\"dataframe\">\n",
       "  <thead>\n",
       "    <tr style=\"text-align: right;\">\n",
       "      <th></th>\n",
       "      <th>hypothesis</th>\n",
       "      <th>reach</th>\n",
       "      <th>impact</th>\n",
       "      <th>confidence</th>\n",
       "      <th>effort</th>\n",
       "      <th>ICE</th>\n",
       "    </tr>\n",
       "  </thead>\n",
       "  <tbody>\n",
       "    <tr>\n",
       "      <th>8</th>\n",
       "      <td>Launch a promotion that gives users discounts on their birthdays</td>\n",
       "      <td>1</td>\n",
       "      <td>9</td>\n",
       "      <td>9</td>\n",
       "      <td>5</td>\n",
       "      <td>16.2</td>\n",
       "    </tr>\n",
       "    <tr>\n",
       "      <th>0</th>\n",
       "      <td>Add two new channels for attracting traffic. This will bring 30% more users</td>\n",
       "      <td>3</td>\n",
       "      <td>10</td>\n",
       "      <td>8</td>\n",
       "      <td>6</td>\n",
       "      <td>13.3</td>\n",
       "    </tr>\n",
       "    <tr>\n",
       "      <th>7</th>\n",
       "      <td>Add a subscription form to all the main pages. This will help you compile a mailing list</td>\n",
       "      <td>10</td>\n",
       "      <td>7</td>\n",
       "      <td>8</td>\n",
       "      <td>5</td>\n",
       "      <td>11.2</td>\n",
       "    </tr>\n",
       "    <tr>\n",
       "      <th>6</th>\n",
       "      <td>Show banners with current offers and sales on the main page. This will boost conversion</td>\n",
       "      <td>5</td>\n",
       "      <td>3</td>\n",
       "      <td>8</td>\n",
       "      <td>3</td>\n",
       "      <td>8.0</td>\n",
       "    </tr>\n",
       "    <tr>\n",
       "      <th>2</th>\n",
       "      <td>Add product recommendation blocks to the store's site. This will increase conversion and average purchase size</td>\n",
       "      <td>8</td>\n",
       "      <td>3</td>\n",
       "      <td>7</td>\n",
       "      <td>3</td>\n",
       "      <td>7.0</td>\n",
       "    </tr>\n",
       "    <tr>\n",
       "      <th>1</th>\n",
       "      <td>Launch your own delivery service. This will shorten delivery time</td>\n",
       "      <td>2</td>\n",
       "      <td>5</td>\n",
       "      <td>4</td>\n",
       "      <td>10</td>\n",
       "      <td>2.0</td>\n",
       "    </tr>\n",
       "    <tr>\n",
       "      <th>5</th>\n",
       "      <td>Add a customer review page. This will increase the number of orders</td>\n",
       "      <td>3</td>\n",
       "      <td>2</td>\n",
       "      <td>2</td>\n",
       "      <td>3</td>\n",
       "      <td>1.3</td>\n",
       "    </tr>\n",
       "    <tr>\n",
       "      <th>3</th>\n",
       "      <td>Change the category structure. This will increase conversion since users will find the products they want more quickly</td>\n",
       "      <td>8</td>\n",
       "      <td>3</td>\n",
       "      <td>3</td>\n",
       "      <td>8</td>\n",
       "      <td>1.1</td>\n",
       "    </tr>\n",
       "    <tr>\n",
       "      <th>4</th>\n",
       "      <td>Change the background color on the main page. This will increase user engagement</td>\n",
       "      <td>3</td>\n",
       "      <td>1</td>\n",
       "      <td>1</td>\n",
       "      <td>1</td>\n",
       "      <td>1.0</td>\n",
       "    </tr>\n",
       "  </tbody>\n",
       "</table>\n",
       "</div>"
      ],
      "text/plain": [
       "                                                                                                               hypothesis  \\\n",
       "8                                                        Launch a promotion that gives users discounts on their birthdays   \n",
       "0                                             Add two new channels for attracting traffic. This will bring 30% more users   \n",
       "7                                Add a subscription form to all the main pages. This will help you compile a mailing list   \n",
       "6                                 Show banners with current offers and sales on the main page. This will boost conversion   \n",
       "2          Add product recommendation blocks to the store's site. This will increase conversion and average purchase size   \n",
       "1                                                       Launch your own delivery service. This will shorten delivery time   \n",
       "5                                                     Add a customer review page. This will increase the number of orders   \n",
       "3  Change the category structure. This will increase conversion since users will find the products they want more quickly   \n",
       "4                                        Change the background color on the main page. This will increase user engagement   \n",
       "\n",
       "   reach  impact  confidence  effort   ICE  \n",
       "8      1       9           9       5  16.2  \n",
       "0      3      10           8       6  13.3  \n",
       "7     10       7           8       5  11.2  \n",
       "6      5       3           8       3   8.0  \n",
       "2      8       3           7       3   7.0  \n",
       "1      2       5           4      10   2.0  \n",
       "5      3       2           2       3   1.3  \n",
       "3      8       3           3       8   1.1  \n",
       "4      3       1           1       1   1.0  "
      ]
     },
     "execution_count": 9,
     "metadata": {},
     "output_type": "execute_result"
    }
   ],
   "source": [
    "hypotheses['ICE'] = ((hypotheses['impact'] * hypotheses['confidence']) / hypotheses['effort']).round(1)\n",
    "hypotheses.sort_values(by='ICE', ascending=False)"
   ]
  },
  {
   "cell_type": "markdown",
   "id": "floppy-sponsorship",
   "metadata": {},
   "source": [
    "<b>Apply the RICE framework to prioritize hypotheses.</b>"
   ]
  },
  {
   "cell_type": "code",
   "execution_count": 10,
   "id": "developed-religious",
   "metadata": {},
   "outputs": [
    {
     "data": {
      "text/html": [
       "<div>\n",
       "<style scoped>\n",
       "    .dataframe tbody tr th:only-of-type {\n",
       "        vertical-align: middle;\n",
       "    }\n",
       "\n",
       "    .dataframe tbody tr th {\n",
       "        vertical-align: top;\n",
       "    }\n",
       "\n",
       "    .dataframe thead th {\n",
       "        text-align: right;\n",
       "    }\n",
       "</style>\n",
       "<table border=\"1\" class=\"dataframe\">\n",
       "  <thead>\n",
       "    <tr style=\"text-align: right;\">\n",
       "      <th></th>\n",
       "      <th>hypothesis</th>\n",
       "      <th>reach</th>\n",
       "      <th>impact</th>\n",
       "      <th>confidence</th>\n",
       "      <th>effort</th>\n",
       "      <th>ICE</th>\n",
       "      <th>RICE</th>\n",
       "    </tr>\n",
       "  </thead>\n",
       "  <tbody>\n",
       "    <tr>\n",
       "      <th>7</th>\n",
       "      <td>Add a subscription form to all the main pages. This will help you compile a mailing list</td>\n",
       "      <td>10</td>\n",
       "      <td>7</td>\n",
       "      <td>8</td>\n",
       "      <td>5</td>\n",
       "      <td>11.2</td>\n",
       "      <td>112.0</td>\n",
       "    </tr>\n",
       "    <tr>\n",
       "      <th>2</th>\n",
       "      <td>Add product recommendation blocks to the store's site. This will increase conversion and average purchase size</td>\n",
       "      <td>8</td>\n",
       "      <td>3</td>\n",
       "      <td>7</td>\n",
       "      <td>3</td>\n",
       "      <td>7.0</td>\n",
       "      <td>56.0</td>\n",
       "    </tr>\n",
       "    <tr>\n",
       "      <th>0</th>\n",
       "      <td>Add two new channels for attracting traffic. This will bring 30% more users</td>\n",
       "      <td>3</td>\n",
       "      <td>10</td>\n",
       "      <td>8</td>\n",
       "      <td>6</td>\n",
       "      <td>13.3</td>\n",
       "      <td>40.0</td>\n",
       "    </tr>\n",
       "    <tr>\n",
       "      <th>6</th>\n",
       "      <td>Show banners with current offers and sales on the main page. This will boost conversion</td>\n",
       "      <td>5</td>\n",
       "      <td>3</td>\n",
       "      <td>8</td>\n",
       "      <td>3</td>\n",
       "      <td>8.0</td>\n",
       "      <td>40.0</td>\n",
       "    </tr>\n",
       "    <tr>\n",
       "      <th>8</th>\n",
       "      <td>Launch a promotion that gives users discounts on their birthdays</td>\n",
       "      <td>1</td>\n",
       "      <td>9</td>\n",
       "      <td>9</td>\n",
       "      <td>5</td>\n",
       "      <td>16.2</td>\n",
       "      <td>16.2</td>\n",
       "    </tr>\n",
       "    <tr>\n",
       "      <th>3</th>\n",
       "      <td>Change the category structure. This will increase conversion since users will find the products they want more quickly</td>\n",
       "      <td>8</td>\n",
       "      <td>3</td>\n",
       "      <td>3</td>\n",
       "      <td>8</td>\n",
       "      <td>1.1</td>\n",
       "      <td>9.0</td>\n",
       "    </tr>\n",
       "    <tr>\n",
       "      <th>1</th>\n",
       "      <td>Launch your own delivery service. This will shorten delivery time</td>\n",
       "      <td>2</td>\n",
       "      <td>5</td>\n",
       "      <td>4</td>\n",
       "      <td>10</td>\n",
       "      <td>2.0</td>\n",
       "      <td>4.0</td>\n",
       "    </tr>\n",
       "    <tr>\n",
       "      <th>5</th>\n",
       "      <td>Add a customer review page. This will increase the number of orders</td>\n",
       "      <td>3</td>\n",
       "      <td>2</td>\n",
       "      <td>2</td>\n",
       "      <td>3</td>\n",
       "      <td>1.3</td>\n",
       "      <td>4.0</td>\n",
       "    </tr>\n",
       "    <tr>\n",
       "      <th>4</th>\n",
       "      <td>Change the background color on the main page. This will increase user engagement</td>\n",
       "      <td>3</td>\n",
       "      <td>1</td>\n",
       "      <td>1</td>\n",
       "      <td>1</td>\n",
       "      <td>1.0</td>\n",
       "      <td>3.0</td>\n",
       "    </tr>\n",
       "  </tbody>\n",
       "</table>\n",
       "</div>"
      ],
      "text/plain": [
       "                                                                                                               hypothesis  \\\n",
       "7                                Add a subscription form to all the main pages. This will help you compile a mailing list   \n",
       "2          Add product recommendation blocks to the store's site. This will increase conversion and average purchase size   \n",
       "0                                             Add two new channels for attracting traffic. This will bring 30% more users   \n",
       "6                                 Show banners with current offers and sales on the main page. This will boost conversion   \n",
       "8                                                        Launch a promotion that gives users discounts on their birthdays   \n",
       "3  Change the category structure. This will increase conversion since users will find the products they want more quickly   \n",
       "1                                                       Launch your own delivery service. This will shorten delivery time   \n",
       "5                                                     Add a customer review page. This will increase the number of orders   \n",
       "4                                        Change the background color on the main page. This will increase user engagement   \n",
       "\n",
       "   reach  impact  confidence  effort   ICE   RICE  \n",
       "7     10       7           8       5  11.2  112.0  \n",
       "2      8       3           7       3   7.0   56.0  \n",
       "0      3      10           8       6  13.3   40.0  \n",
       "6      5       3           8       3   8.0   40.0  \n",
       "8      1       9           9       5  16.2   16.2  \n",
       "3      8       3           3       8   1.1    9.0  \n",
       "1      2       5           4      10   2.0    4.0  \n",
       "5      3       2           2       3   1.3    4.0  \n",
       "4      3       1           1       1   1.0    3.0  "
      ]
     },
     "execution_count": 10,
     "metadata": {},
     "output_type": "execute_result"
    }
   ],
   "source": [
    "hypotheses['RICE'] = ((hypotheses['impact'] * hypotheses['confidence'] * hypotheses['reach']) / hypotheses['effort'])\n",
    "hypotheses.sort_values(by='RICE', ascending=False)"
   ]
  },
  {
   "cell_type": "markdown",
   "id": "ef316dc1",
   "metadata": {},
   "source": [
    "<b>Conclusion</b>\n",
    "\n",
    "Calculating the ICE ((impact * confidence) / effort), hypothesis 8 (Launch a promotion that gives users discounts on their birthdays) has the highest score of 16.2. This is a result of a high impact and confidence score with an average score of effort of 5. The second high score (13.3) is hypothesis 0 (Add two new channels for attracting traffic).  Although the value of its impact and confidence are high, the effort required is a little higher than average. This results to the drop in the score of its ICE.\n",
    "\n",
    "The hypothesis with the least score is hypothesis 4 (Change the background color on the main page). With low impact (1), low confidence(1), and low effort(1), the ICE did not change its score."
   ]
  },
  {
   "cell_type": "markdown",
   "id": "hidden-aquarium",
   "metadata": {},
   "source": [
    "<b>Changes in prioritization of both framework</b>"
   ]
  },
  {
   "cell_type": "code",
   "execution_count": 11,
   "id": "extraordinary-carol",
   "metadata": {},
   "outputs": [
    {
     "data": {
      "image/png": "[encoded data removed]",
      "text/plain": [
       "<Figure size 864x432 with 1 Axes>"
      ]
     },
     "metadata": {
      "needs_background": "light"
     },
     "output_type": "display_data"
    }
   ],
   "source": [
    "# Graphical representation\n",
    "plt.figure(figsize=(12, 6))\n",
    "plt.scatter(hypotheses['RICE'].tolist(), hypotheses['ICE'].tolist(), marker=\"o\")\n",
    "for i, txt in enumerate(hypotheses.index.tolist()):\n",
    "    plt.annotate(txt, (hypotheses['RICE'].tolist()[i], hypotheses['ICE'].tolist()[i]))\n",
    "plt.title('Hypotheses Prioritization', size=15)\n",
    "plt.xlabel('RICE Priority Score', size=12)\n",
    "plt.ylabel('ICE Priority Score', size=12)\n",
    "plt.show()"
   ]
  },
  {
   "cell_type": "markdown",
   "id": "66edbbd7",
   "metadata": {},
   "source": [
    "<b>Conclusions</b>\n",
    "\n",
    "Calculating the RICE ((reach * impact * confidence) / effort), hypothesis 7 (Add a subscription form to all the main pages) has the highest score of 112. This is because the reach, impact, and confidence are high with an average effort of 5. Comparing it with hypotheis 2, Hypothesis 2 (Add product recommendation blocks to the store's site) has the second high score of 56 with high reach and confidence but a really low impact of 3 and a little above average score 6 in effort.\n",
    "\n",
    "Hypothesis 4 has the least score in RICE (3). Reach (3), impact(1), confidence(1), and effort(1)"
   ]
  },
  {
   "cell_type": "markdown",
   "id": "fb2c68c4",
   "metadata": {},
   "source": [
    "<b>Show how the prioritization of hypotheses changes when you use RICE instead of ICE.</b>"
   ]
  },
  {
   "cell_type": "code",
   "execution_count": 12,
   "id": "037a7cb9",
   "metadata": {},
   "outputs": [
    {
     "data": {
      "image/png": "[encoded data removed]",
      "text/plain": [
       "<Figure size 864x432 with 1 Axes>"
      ]
     },
     "metadata": {
      "needs_background": "light"
     },
     "output_type": "display_data"
    }
   ],
   "source": [
    "# Graphical representation\n",
    "plt.figure(figsize=(12, 6))\n",
    "plt.scatter(hypotheses['RICE'].tolist(), hypotheses['ICE'].tolist(), marker=\"o\")\n",
    "for i, txt in enumerate(hypotheses.index.tolist()):\n",
    "    plt.annotate(txt, (hypotheses['RICE'].tolist()[i], hypotheses['ICE'].tolist()[i]))\n",
    "plt.title('Hypotheses Prioritization', size=15)\n",
    "plt.xlabel('RICE Priority Score', size=12)\n",
    "plt.ylabel('ICE Priority Score', size=12)\n",
    "plt.show()"
   ]
  },
  {
   "cell_type": "markdown",
   "id": "3ba2d825",
   "metadata": {},
   "source": [
    "<b>Conclusions</b>\n",
    "\n",
    "Methods of calculation matters when it comes to prioritizing hypothesis. From the hypotheses data, we can see that the priority of each hypothesis is different according to the result of the ICE and RICE. \n",
    "\n",
    "According to ICE result, hypothesis 8 is with the highest priority but according to RICE calculation, it is at the 5th priority. This is because of its high impact, hight confidence, medium effort but a really low reach. Same goes to hypothesis 0. It ranks second in ICE calculation but 3rd in RICE calcultion. It has a high impact, hight confidence, medium effort but a low reach.\n",
    "\n",
    "Looking at hypothesis 7 and 2 ranking first and second respectively in RICE calculation, both ranked third and fifth in ICE calculation. Hypothesis 7 has a very high reach, high impact, high confidence, and a medium effort. And hypothesis 2 has a high reach, low impact, high confidence and low effort.\n",
    "\n",
    "Having a low effort in both framework calculation goes a long way in increasing the priority of a hypothesis. But if a hypothesis has a low effort while other factors are low too, the chances of having a high priority will be low. Take an instance, hypothesis 4. Although it has a low effort, all other factors affecting the calculation of both frameworks are low and this resulted to it being the least in the decreasing order of priority for both frameworks.\n",
    "\n",
    "So, for a hypothesis to have a high rank in RICE or/and ICE, the reach, impact, and confidence have to be high while the effort has to be low. "
   ]
  },
  {
   "cell_type": "markdown",
   "id": "killing-shipping",
   "metadata": {},
   "source": [
    "<a id='ab_testing'></a>\n",
    "## Step 4. A/B Test Analysis"
   ]
  },
  {
   "cell_type": "markdown",
   "id": "technical-barrier",
   "metadata": {},
   "source": [
    "<a id='cum_revenue'></a>\n",
    "<b>Cumulative Revenue by Group.</b>"
   ]
  },
  {
   "cell_type": "code",
   "execution_count": 13,
   "id": "liquid-collect",
   "metadata": {},
   "outputs": [
    {
     "data": {
      "text/html": [
       "<div>\n",
       "<style scoped>\n",
       "    .dataframe tbody tr th:only-of-type {\n",
       "        vertical-align: middle;\n",
       "    }\n",
       "\n",
       "    .dataframe tbody tr th {\n",
       "        vertical-align: top;\n",
       "    }\n",
       "\n",
       "    .dataframe thead th {\n",
       "        text-align: right;\n",
       "    }\n",
       "</style>\n",
       "<table border=\"1\" class=\"dataframe\">\n",
       "  <thead>\n",
       "    <tr style=\"text-align: right;\">\n",
       "      <th></th>\n",
       "      <th>date</th>\n",
       "      <th>revenueA</th>\n",
       "      <th>revenueB</th>\n",
       "      <th>ordersA</th>\n",
       "      <th>ordersB</th>\n",
       "      <th>cum_revenueA</th>\n",
       "      <th>cum_revenueB</th>\n",
       "      <th>cum_ordersA</th>\n",
       "      <th>cum_ordersB</th>\n",
       "    </tr>\n",
       "  </thead>\n",
       "  <tbody>\n",
       "    <tr>\n",
       "      <th>0</th>\n",
       "      <td>2019-08-01</td>\n",
       "      <td>2266.6</td>\n",
       "      <td>967.2</td>\n",
       "      <td>23</td>\n",
       "      <td>17</td>\n",
       "      <td>2266.6</td>\n",
       "      <td>967.2</td>\n",
       "      <td>23</td>\n",
       "      <td>17</td>\n",
       "    </tr>\n",
       "    <tr>\n",
       "      <th>1</th>\n",
       "      <td>2019-08-02</td>\n",
       "      <td>1468.3</td>\n",
       "      <td>2568.1</td>\n",
       "      <td>19</td>\n",
       "      <td>23</td>\n",
       "      <td>3734.9</td>\n",
       "      <td>3535.3</td>\n",
       "      <td>42</td>\n",
       "      <td>40</td>\n",
       "    </tr>\n",
       "    <tr>\n",
       "      <th>2</th>\n",
       "      <td>2019-08-03</td>\n",
       "      <td>1815.2</td>\n",
       "      <td>1071.6</td>\n",
       "      <td>24</td>\n",
       "      <td>14</td>\n",
       "      <td>5550.1</td>\n",
       "      <td>4606.9</td>\n",
       "      <td>66</td>\n",
       "      <td>54</td>\n",
       "    </tr>\n",
       "    <tr>\n",
       "      <th>3</th>\n",
       "      <td>2019-08-04</td>\n",
       "      <td>675.5</td>\n",
       "      <td>1531.6</td>\n",
       "      <td>11</td>\n",
       "      <td>14</td>\n",
       "      <td>6225.6</td>\n",
       "      <td>6138.5</td>\n",
       "      <td>77</td>\n",
       "      <td>68</td>\n",
       "    </tr>\n",
       "    <tr>\n",
       "      <th>4</th>\n",
       "      <td>2019-08-05</td>\n",
       "      <td>1398.0</td>\n",
       "      <td>1449.3</td>\n",
       "      <td>22</td>\n",
       "      <td>21</td>\n",
       "      <td>7623.6</td>\n",
       "      <td>7587.8</td>\n",
       "      <td>99</td>\n",
       "      <td>89</td>\n",
       "    </tr>\n",
       "  </tbody>\n",
       "</table>\n",
       "</div>"
      ],
      "text/plain": [
       "        date  revenueA  revenueB  ordersA  ordersB  cum_revenueA  \\\n",
       "0 2019-08-01    2266.6     967.2       23       17        2266.6   \n",
       "1 2019-08-02    1468.3    2568.1       19       23        3734.9   \n",
       "2 2019-08-03    1815.2    1071.6       24       14        5550.1   \n",
       "3 2019-08-04     675.5    1531.6       11       14        6225.6   \n",
       "4 2019-08-05    1398.0    1449.3       22       21        7623.6   \n",
       "\n",
       "   cum_revenueB  cum_ordersA  cum_ordersB  \n",
       "0         967.2           23           17  \n",
       "1        3535.3           42           40  \n",
       "2        4606.9           66           54  \n",
       "3        6138.5           77           68  \n",
       "4        7587.8           99           89  "
      ]
     },
     "metadata": {},
     "output_type": "display_data"
    },
    {
     "data": {
      "image/png": "[encoded data removed]",
      "text/plain": [
       "<Figure size 1080x576 with 1 Axes>"
      ]
     },
     "metadata": {
      "needs_background": "light"
     },
     "output_type": "display_data"
    }
   ],
   "source": [
    "# Group new_order df by 'date' and 'group' and get the unique 'transactionId' and sum of their 'revenue'\n",
    "CumData = (\n",
    "    new_orders\n",
    "    .pivot_table(index = 'date', columns = 'group', values = ['transactionId', 'revenue'],\n",
    "    aggfunc = ({\n",
    "        'transactionId': 'nunique',\n",
    "        'revenue': 'sum'\n",
    "    })).reset_index()\n",
    "    )\n",
    "CumData.columns = ('date', 'revenueA', 'revenueB', 'ordersA', 'ordersB')\n",
    "\n",
    "# Calculating the cumulative revenue of each group\n",
    "CumData['cum_revenueA'] = CumData['revenueA'].cumsum()\n",
    "CumData['cum_revenueB'] = CumData['revenueB'].cumsum()\n",
    "\n",
    "# Calculating the cumulative orders of each group\n",
    "CumData['cum_ordersA'] = CumData['ordersA'].cumsum()\n",
    "CumData['cum_ordersB'] = CumData['ordersB'].cumsum()\n",
    "\n",
    "display(CumData.head())\n",
    "\n",
    "# Graphical Representation of the cumulative revenue of each group\n",
    "plt.figure(figsize=(15, 8))\n",
    "plt.plot(CumData['date'], CumData['cum_revenueA'], label='A')\n",
    "plt.plot(CumData['date'], CumData['cum_revenueB'], label='B')\n",
    "plt.title('Cummulative Revenue of Groups A and B', size='15')\n",
    "plt.xlabel('Date', size='12')\n",
    "plt.ylabel('Revenue', size='12')\n",
    "plt.legend()\n",
    "plt.show()"
   ]
  },
  {
   "cell_type": "markdown",
   "id": "f89f47a1",
   "metadata": {},
   "source": [
    "<b>Conclusion</b>\n",
    "\n",
    "In the above graph, Group A started off with a higher revenue than Group B till the 5th day of our test. Afterwards, with every increase from Group A, the cummulative average reveune of Group B topped the chart consistently with a good margin although the revenue of both groups became almost equal on the 13th day. Then Group B went back up.\n",
    "\n",
    "There is a huge increase in the cummulative revenue of Group B on the 19th day. This increase is caused by the revenue (19920.4) from a visitor from Group B. This is one of many outliers to be dealt with going further so we can have a better analysis."
   ]
  },
  {
   "cell_type": "markdown",
   "id": "aerial-calvin",
   "metadata": {},
   "source": [
    "<a id='cum_ave_order'></a>\n",
    "<b>Cumulative Average Order Size by Group.</b>"
   ]
  },
  {
   "cell_type": "code",
   "execution_count": 14,
   "id": "electric-importance",
   "metadata": {},
   "outputs": [
    {
     "data": {
      "image/png": "[encoded data removed]",
      "text/plain": [
       "<Figure size 1080x576 with 1 Axes>"
      ]
     },
     "metadata": {
      "needs_background": "light"
     },
     "output_type": "display_data"
    }
   ],
   "source": [
    "# Graphical Representation of cumulative average order size by group\n",
    "plt.figure(figsize=(15, 8))\n",
    "plt.plot(CumData['date'], CumData['cum_revenueA'] / CumData['cum_ordersA'], label='A')\n",
    "plt.plot(CumData['date'], CumData['cum_revenueB'] / CumData['cum_ordersB'], label='B')\n",
    "plt.title('Cummulative Average Order Size of Groups A and B', size='15')\n",
    "plt.xlabel('Date', size='12')\n",
    "plt.ylabel('Order Size', size='12')\n",
    "plt.legend()\n",
    "plt.show()"
   ]
  },
  {
   "cell_type": "markdown",
   "id": "c5f8c0b0",
   "metadata": {},
   "source": [
    "<b>Conclusion</b> \n",
    "\n",
    "Here, we calculated the cumulative average order size by group. The above graph seems to have almost the same pattern as that of cumulative revenue by group. \n",
    "\n",
    "While Group A started off higher than Group B, it dropped after the first day while Group B increased. Between the 12th and 18th day, Group A became higher than Group B again before Group B had a massive inclination. \n",
    "\n",
    "With this graph, seeing that there are possible outliers, it is a little had to make concrete deductions about which group is better."
   ]
  },
  {
   "cell_type": "markdown",
   "id": "intended-beverage",
   "metadata": {},
   "source": [
    "<a id='rel_cum_averageorder'></a>\n",
    "<b>Relative Difference in Cumulative Average Order Size of Group B compared with Group A.</b>"
   ]
  },
  {
   "cell_type": "code",
   "execution_count": 15,
   "id": "retired-delight",
   "metadata": {},
   "outputs": [
    {
     "data": {
      "image/png": "[encoded data removed]",
      "text/plain": [
       "<Figure size 1080x576 with 1 Axes>"
      ]
     },
     "metadata": {
      "needs_background": "light"
     },
     "output_type": "display_data"
    }
   ],
   "source": [
    "# Graphical Representation of the relative difference in cumulative average order size for groupB compared with groupA\n",
    "plt.figure(figsize=(15, 8))\n",
    "plt.plot(CumData['date'], (CumData['cum_revenueB']/CumData['cum_ordersB'])\\\n",
    "         / (CumData['cum_revenueA']/CumData['cum_ordersA'])-1)\n",
    "plt.axhline(y=0, color='black', linestyle='--')\n",
    "plt.title('Cummulative Average Order Size of Groups A and B', size='15')\n",
    "plt.xlabel('Date', size='12')\n",
    "plt.ylabel('Order Size', size='12')\n",
    "plt.show()"
   ]
  },
  {
   "cell_type": "markdown",
   "id": "c96978bb",
   "metadata": {},
   "source": [
    "<b>Conclusion</b>\n",
    "\n",
    "Here, also, at several points there are spikes and peaks. Which shows that there are outliers. "
   ]
  },
  {
   "cell_type": "markdown",
   "id": "strong-abortion",
   "metadata": {},
   "source": [
    "<a id='group_conversionrate'></a>\n",
    "<b>Convertion Rate by Group</b>\n",
    "\n",
    "We calculate each group's conversion rate as the ratio of orders to the number of visits for each day."
   ]
  },
  {
   "cell_type": "code",
   "execution_count": 16,
   "id": "honest-astronomy",
   "metadata": {
    "scrolled": false
   },
   "outputs": [
    {
     "data": {
      "text/html": [
       "<div>\n",
       "<style scoped>\n",
       "    .dataframe tbody tr th:only-of-type {\n",
       "        vertical-align: middle;\n",
       "    }\n",
       "\n",
       "    .dataframe tbody tr th {\n",
       "        vertical-align: top;\n",
       "    }\n",
       "\n",
       "    .dataframe thead th {\n",
       "        text-align: right;\n",
       "    }\n",
       "</style>\n",
       "<table border=\"1\" class=\"dataframe\">\n",
       "  <thead>\n",
       "    <tr style=\"text-align: right;\">\n",
       "      <th></th>\n",
       "      <th>date</th>\n",
       "      <th>visitsA</th>\n",
       "      <th>visitsB</th>\n",
       "      <th>cum_visitsA</th>\n",
       "      <th>cum_visitsB</th>\n",
       "      <th>cum_ordersA</th>\n",
       "      <th>cum_ordersB</th>\n",
       "      <th>conversionA</th>\n",
       "      <th>conversionB</th>\n",
       "    </tr>\n",
       "  </thead>\n",
       "  <tbody>\n",
       "    <tr>\n",
       "      <th>0</th>\n",
       "      <td>2019-08-01</td>\n",
       "      <td>719</td>\n",
       "      <td>713</td>\n",
       "      <td>719</td>\n",
       "      <td>713</td>\n",
       "      <td>23</td>\n",
       "      <td>17</td>\n",
       "      <td>0.0320</td>\n",
       "      <td>0.0238</td>\n",
       "    </tr>\n",
       "    <tr>\n",
       "      <th>1</th>\n",
       "      <td>2019-08-02</td>\n",
       "      <td>619</td>\n",
       "      <td>581</td>\n",
       "      <td>1338</td>\n",
       "      <td>1294</td>\n",
       "      <td>42</td>\n",
       "      <td>40</td>\n",
       "      <td>0.0314</td>\n",
       "      <td>0.0309</td>\n",
       "    </tr>\n",
       "    <tr>\n",
       "      <th>2</th>\n",
       "      <td>2019-08-03</td>\n",
       "      <td>507</td>\n",
       "      <td>509</td>\n",
       "      <td>1845</td>\n",
       "      <td>1803</td>\n",
       "      <td>66</td>\n",
       "      <td>54</td>\n",
       "      <td>0.0358</td>\n",
       "      <td>0.0300</td>\n",
       "    </tr>\n",
       "    <tr>\n",
       "      <th>3</th>\n",
       "      <td>2019-08-04</td>\n",
       "      <td>717</td>\n",
       "      <td>770</td>\n",
       "      <td>2562</td>\n",
       "      <td>2573</td>\n",
       "      <td>77</td>\n",
       "      <td>68</td>\n",
       "      <td>0.0301</td>\n",
       "      <td>0.0264</td>\n",
       "    </tr>\n",
       "    <tr>\n",
       "      <th>4</th>\n",
       "      <td>2019-08-05</td>\n",
       "      <td>756</td>\n",
       "      <td>707</td>\n",
       "      <td>3318</td>\n",
       "      <td>3280</td>\n",
       "      <td>99</td>\n",
       "      <td>89</td>\n",
       "      <td>0.0298</td>\n",
       "      <td>0.0271</td>\n",
       "    </tr>\n",
       "  </tbody>\n",
       "</table>\n",
       "</div>"
      ],
      "text/plain": [
       "        date  visitsA  visitsB  cum_visitsA  cum_visitsB  cum_ordersA  \\\n",
       "0 2019-08-01      719      713          719          713           23   \n",
       "1 2019-08-02      619      581         1338         1294           42   \n",
       "2 2019-08-03      507      509         1845         1803           66   \n",
       "3 2019-08-04      717      770         2562         2573           77   \n",
       "4 2019-08-05      756      707         3318         3280           99   \n",
       "\n",
       "   cum_ordersB  conversionA  conversionB  \n",
       "0           17       0.0320       0.0238  \n",
       "1           40       0.0314       0.0309  \n",
       "2           54       0.0358       0.0300  \n",
       "3           68       0.0301       0.0264  \n",
       "4           89       0.0298       0.0271  "
      ]
     },
     "metadata": {},
     "output_type": "display_data"
    },
    {
     "data": {
      "image/png": "[encoded data removed]",
      "text/plain": [
       "<Figure size 1080x576 with 1 Axes>"
      ]
     },
     "metadata": {
      "needs_background": "light"
     },
     "output_type": "display_data"
    }
   ],
   "source": [
    "# Group the visits df by 'date' and 'group' and sum the 'visits'\n",
    "visits_grouped_ = visits.pivot_table(index='date', columns='group', values='visits', aggfunc=(sum)).reset_index()\n",
    "visits_grouped_.columns = ('date', 'visitsA', 'visitsB')\n",
    "\n",
    "# Create cumulative visits for each group\n",
    "visits_grouped_['cum_visitsA'] = visits_grouped_['visitsA'].cumsum()\n",
    "visits_grouped_['cum_visitsB'] = visits_grouped_['visitsB'].cumsum()\n",
    "\n",
    "# Merge the groups 'date', 'cum_ordersA', and'cum_ordersB' columns of CumData to visits_grouped_\n",
    "visits_grouped = visits_grouped_.merge(CumData[['date', 'cum_ordersA', 'cum_ordersB']], how='outer', on='date')\n",
    "visits_grouped['conversionA'] = (visits_grouped['cum_ordersA'] / visits_grouped['cum_visitsA']).round(4)\n",
    "visits_grouped['conversionB'] = (visits_grouped['cum_ordersB'] / visits_grouped['cum_visitsB']).round(4)\n",
    "display(visits_grouped.head())\n",
    "\n",
    "# Graphical Representation of conversion rate by group\n",
    "plt.figure(figsize=(15, 8))\n",
    "plt.plot(visits_grouped['date'], visits_grouped['conversionA'], label='A')\n",
    "plt.plot(visits_grouped['date'], visits_grouped['conversionB'], label='B')\n",
    "plt.title('Conversion Rate by Groups', size='15')\n",
    "plt.xlabel('Date', size='12')\n",
    "plt.ylabel('Conversion Rate', size='12')\n",
    "plt.legend()\n",
    "plt.show()"
   ]
  },
  {
   "cell_type": "markdown",
   "id": "f04439c0",
   "metadata": {},
   "source": [
    "<b>Conclusion</b>\n",
    "\n",
    "From the above chart, Group A has a peeking problem in conversion in the first few days of our test while Group B significantly fluctuated. Then on the fourth and fifth day, Group B began to rise while Group A declined. After the ninth day, Group A's declination started to swing between 0.024 and 0.026 while the inclination of Group B swung between 0.029 and 0.031.\n",
    "\n",
    "This is to say that Group B had more conversion along the way than Group A."
   ]
  },
  {
   "cell_type": "markdown",
   "id": "angry-government",
   "metadata": {},
   "source": [
    "<a id='relative_difference_conversion'></a>\n",
    "<b>Relative Difference in Conversion of Group B in comparison to Group A</b>"
   ]
  },
  {
   "cell_type": "code",
   "execution_count": 17,
   "id": "dress-mainland",
   "metadata": {
    "scrolled": false
   },
   "outputs": [
    {
     "data": {
      "image/png": "[encoded data removed]",
      "text/plain": [
       "<Figure size 1080x576 with 1 Axes>"
      ]
     },
     "metadata": {
      "needs_background": "light"
     },
     "output_type": "display_data"
    }
   ],
   "source": [
    "# This is the relative difference in conversion of Group B in comparison to Group A\n",
    "plt.figure(figsize=(15, 8))\n",
    "plt.plot(visits_grouped['date'], visits_grouped['conversionB'] / visits_grouped['conversionA'] - 1, label='A')\n",
    "plt.title('Relative difference in Conversion of Group B with respect to Group A', size='15')\n",
    "plt.xlabel('Date', size='12')\n",
    "plt.ylabel('Conversion Rate', size='12')\n",
    "plt.axhline(y=0, color='black', linestyle='--')\n",
    "plt.axhline(y=0.16, color='grey', linestyle='--')\n",
    "plt.show()"
   ]
  },
  {
   "cell_type": "markdown",
   "id": "7cab48ea",
   "metadata": {},
   "source": [
    "<b>Conclusion</b>\n",
    "\n",
    "The graph shows the relative difference in conversion of Group B to Group A. From the graph, we see that although there was a rise and fall in the conversion before between the first day and 5th day of the test before an inclination, the conversion of Group B has the tendency to grow and stabilize around the mean while Group A has no such tendency.\n",
    "\n",
    "The results of Group B are better than that of Group A in term of conversion."
   ]
  },
  {
   "cell_type": "markdown",
   "id": "automated-birthday",
   "metadata": {},
   "source": [
    "<a id='scatter_plot'></a>\n",
    "<b>Scatter Plot of the Number of Orders per User.</b>"
   ]
  },
  {
   "cell_type": "code",
   "execution_count": 18,
   "id": "legislative-investment",
   "metadata": {},
   "outputs": [
    {
     "data": {
      "text/html": [
       "<div>\n",
       "<style scoped>\n",
       "    .dataframe tbody tr th:only-of-type {\n",
       "        vertical-align: middle;\n",
       "    }\n",
       "\n",
       "    .dataframe tbody tr th {\n",
       "        vertical-align: top;\n",
       "    }\n",
       "\n",
       "    .dataframe thead th {\n",
       "        text-align: right;\n",
       "    }\n",
       "</style>\n",
       "<table border=\"1\" class=\"dataframe\">\n",
       "  <thead>\n",
       "    <tr style=\"text-align: right;\">\n",
       "      <th></th>\n",
       "      <th>visitorId</th>\n",
       "      <th>num_of_orders</th>\n",
       "      <th>revenue</th>\n",
       "    </tr>\n",
       "  </thead>\n",
       "  <tbody>\n",
       "    <tr>\n",
       "      <th>0</th>\n",
       "      <td>11685486</td>\n",
       "      <td>1</td>\n",
       "      <td>100.4</td>\n",
       "    </tr>\n",
       "    <tr>\n",
       "      <th>1</th>\n",
       "      <td>54447517</td>\n",
       "      <td>1</td>\n",
       "      <td>5.0</td>\n",
       "    </tr>\n",
       "    <tr>\n",
       "      <th>2</th>\n",
       "      <td>66685450</td>\n",
       "      <td>1</td>\n",
       "      <td>125.9</td>\n",
       "    </tr>\n",
       "    <tr>\n",
       "      <th>3</th>\n",
       "      <td>78758296</td>\n",
       "      <td>1</td>\n",
       "      <td>20.1</td>\n",
       "    </tr>\n",
       "    <tr>\n",
       "      <th>4</th>\n",
       "      <td>85103373</td>\n",
       "      <td>1</td>\n",
       "      <td>20.8</td>\n",
       "    </tr>\n",
       "  </tbody>\n",
       "</table>\n",
       "</div>"
      ],
      "text/plain": [
       "   visitorId  num_of_orders  revenue\n",
       "0   11685486              1    100.4\n",
       "1   54447517              1      5.0\n",
       "2   66685450              1    125.9\n",
       "3   78758296              1     20.1\n",
       "4   85103373              1     20.8"
      ]
     },
     "metadata": {},
     "output_type": "display_data"
    },
    {
     "data": {
      "text/html": [
       "<div>\n",
       "<style scoped>\n",
       "    .dataframe tbody tr th:only-of-type {\n",
       "        vertical-align: middle;\n",
       "    }\n",
       "\n",
       "    .dataframe tbody tr th {\n",
       "        vertical-align: top;\n",
       "    }\n",
       "\n",
       "    .dataframe thead th {\n",
       "        text-align: right;\n",
       "    }\n",
       "</style>\n",
       "<table border=\"1\" class=\"dataframe\">\n",
       "  <thead>\n",
       "    <tr style=\"text-align: right;\">\n",
       "      <th></th>\n",
       "      <th>visitorId</th>\n",
       "      <th>num_of_orders</th>\n",
       "      <th>revenue</th>\n",
       "    </tr>\n",
       "  </thead>\n",
       "  <tbody>\n",
       "    <tr>\n",
       "      <th>0</th>\n",
       "      <td>5114589</td>\n",
       "      <td>1</td>\n",
       "      <td>10.8</td>\n",
       "    </tr>\n",
       "    <tr>\n",
       "      <th>1</th>\n",
       "      <td>6958315</td>\n",
       "      <td>1</td>\n",
       "      <td>25.9</td>\n",
       "    </tr>\n",
       "    <tr>\n",
       "      <th>2</th>\n",
       "      <td>39475350</td>\n",
       "      <td>1</td>\n",
       "      <td>65.4</td>\n",
       "    </tr>\n",
       "    <tr>\n",
       "      <th>3</th>\n",
       "      <td>47206413</td>\n",
       "      <td>1</td>\n",
       "      <td>15.2</td>\n",
       "    </tr>\n",
       "    <tr>\n",
       "      <th>4</th>\n",
       "      <td>48147722</td>\n",
       "      <td>1</td>\n",
       "      <td>20.8</td>\n",
       "    </tr>\n",
       "  </tbody>\n",
       "</table>\n",
       "</div>"
      ],
      "text/plain": [
       "   visitorId  num_of_orders  revenue\n",
       "0    5114589              1     10.8\n",
       "1    6958315              1     25.9\n",
       "2   39475350              1     65.4\n",
       "3   47206413              1     15.2\n",
       "4   48147722              1     20.8"
      ]
     },
     "metadata": {},
     "output_type": "display_data"
    },
    {
     "data": {
      "image/png": "[encoded data removed]",
      "text/plain": [
       "<Figure size 576x576 with 1 Axes>"
      ]
     },
     "metadata": {
      "needs_background": "light"
     },
     "output_type": "display_data"
    },
    {
     "data": {
      "image/png": "[encoded data removed]",
      "text/plain": [
       "<Figure size 720x720 with 1 Axes>"
      ]
     },
     "metadata": {},
     "output_type": "display_data"
    }
   ],
   "source": [
    "OrdersPerUserA = new_orders.query('group == \"A\"').groupby('visitorId').agg({'revenue': ['count', 'sum']}).reset_index()\n",
    "OrdersPerUserA.columns = ('visitorId', 'num_of_orders', 'revenue')\n",
    "\n",
    "OrdersPerUserB = new_orders.query('group == \"B\"').groupby('visitorId').agg({'revenue': ['count', 'sum']}).reset_index()\n",
    "OrdersPerUserB.columns = ('visitorId', 'num_of_orders', 'revenue')\n",
    "\n",
    "display(OrdersPerUserA.head())\n",
    "display(OrdersPerUserB.head())\n",
    "\n",
    "# Scatter plot to show the number of orders per buyer\n",
    "plt.figure(figsize=(8,8))\n",
    "plt.scatter(pd.Series(range(0, len(OrdersPerUserA['num_of_orders']))), OrdersPerUserA['num_of_orders'], c='red')\n",
    "plt.scatter(pd.Series(range(0, len(OrdersPerUserB['num_of_orders']))), OrdersPerUserB['num_of_orders'], c='blue')\n",
    "plt.title('Number of Orders per User')\n",
    "plt.xlabel('Number of Users')\n",
    "plt.ylabel('Number of Orders')\n",
    "plt.show()\n",
    "\n",
    "# General grouping\n",
    "OrdersPerUser = new_orders.groupby('visitorId').agg({'revenue': ['count', 'sum']}).reset_index()\n",
    "OrdersPerUser.columns = ('visitorId', 'num_of_orders', 'revenue')\n",
    "\n",
    "\n",
    "#OrdersPerUser[['']](autopct=\"%.1f%%\")\n",
    "plt.figure(figsize=(10,10))\n",
    "labels = OrdersPerUser.groupby('num_of_orders')['visitorId'].count().keys()\n",
    "plt.pie(x=(OrdersPerUser.groupby('num_of_orders')['visitorId'].count()), autopct=\"%.1f%%\", explode=[0.04]*3,\\\n",
    "        labels=labels, pctdistance=0.5)\n",
    "plt.title('Number of Orders and Percentage of Users')\n",
    "plt.show()"
   ]
  },
  {
   "cell_type": "markdown",
   "id": "intellectual-duration",
   "metadata": {},
   "source": [
    "<a id='precentiles_orders'></a>\n",
    "<b>Percentiles of Number of Orders per User</b>\n",
    "\n",
    "Calculate the 95th and 99th percentiles for the number of orders per user. Define the point at which a data point becomes an anomaly."
   ]
  },
  {
   "cell_type": "code",
   "execution_count": 19,
   "id": "about-customs",
   "metadata": {},
   "outputs": [
    {
     "data": {
      "text/plain": [
       "array([1., 2.])"
      ]
     },
     "execution_count": 19,
     "metadata": {},
     "output_type": "execute_result"
    }
   ],
   "source": [
    "np.percentile(OrdersPerUser['num_of_orders'], [95, 99])"
   ]
  },
  {
   "cell_type": "markdown",
   "id": "25c8cc97",
   "metadata": {},
   "source": [
    "<b>Conclusion</b>\n",
    "\n",
    "From the percentile calculation, not more than 5% of the visitors made more than 1 order and not more than 1% of the visitors made more than 2 orders. Here, we conclude that the 1% with 2 or more orders are the outliers."
   ]
  },
  {
   "cell_type": "markdown",
   "id": "english-divorce",
   "metadata": {},
   "source": [
    "<a id='percentile_revenue'></a>\n",
    "<b>Percentiles of Order Prices</b>\n",
    "\n",
    "Calculate the 95th and 99th percentiles of order prices. Define the point at which a data point becomes an anomaly. "
   ]
  },
  {
   "cell_type": "code",
   "execution_count": 20,
   "id": "peripheral-enhancement",
   "metadata": {},
   "outputs": [
    {
     "data": {
      "text/plain": [
       "array([449.5  , 912.576])"
      ]
     },
     "execution_count": 20,
     "metadata": {},
     "output_type": "execute_result"
    }
   ],
   "source": [
    "np.percentile(OrdersPerUser['revenue'], [95, 99])"
   ]
  },
  {
   "cell_type": "markdown",
   "id": "80a7d43c",
   "metadata": {},
   "source": [
    "<b>Conclusion</b>\n",
    "\n",
    "From the above calculation, we can see that not more than 5% of the visitors brought in 449.5 as revenue and not more than 1% brought in 912.576. Here, we will identify our anomalies as those visitors that brought in 449.5 and above i.e 1% to 5% of the users."
   ]
  },
  {
   "cell_type": "markdown",
   "id": "jewish-slovakia",
   "metadata": {},
   "source": [
    "<a id='scatter_plot_prices'></a>\n",
    "<b>Scatter Plot of Order Prices</b>\n",
    "\n",
    "Plot a scatter chart of order prices of filtered and unfiltered data. Make conclusions and conjectures."
   ]
  },
  {
   "cell_type": "code",
   "execution_count": 21,
   "id": "relevant-album",
   "metadata": {},
   "outputs": [],
   "source": [
    "# Get users with orders more than or equal to 2 in both groups\n",
    "UsersWithManyOrders = OrdersPerUser[OrdersPerUser['num_of_orders'] >= 2]['visitorId']\n",
    "\n",
    "# Get users with orders whose revenue is more than or equal to 449.5\n",
    "UsersWithCostlyOrders = new_orders[new_orders['revenue'] >= 449.5]['visitorId']\n",
    "\n",
    "# Concatenate visitorId of those users\n",
    "AbnormalUsers = pd.concat([UsersWithManyOrders, UsersWithCostlyOrders], axis=0).drop_duplicates()\n",
    "\n",
    "Filtered_OrdersPerUser = OrdersPerUser[~(OrdersPerUser['visitorId'].isin(AbnormalUsers))]"
   ]
  },
  {
   "cell_type": "code",
   "execution_count": 22,
   "id": "becoming-charity",
   "metadata": {},
   "outputs": [
    {
     "data": {
      "image/png": "[encoded data removed]",
      "text/plain": [
       "<Figure size 864x576 with 2 Axes>"
      ]
     },
     "metadata": {
      "needs_background": "light"
     },
     "output_type": "display_data"
    }
   ],
   "source": [
    "fig, ax = plt.subplots(nrows=1, ncols=2, figsize=(12, 8))\n",
    "# ax.set_title('Order Prices')\n",
    "ax[0].scatter(x = pd.Series(range(0, len(OrdersPerUser['num_of_orders']))), y = OrdersPerUser['revenue'])\n",
    "ax[0].set_xlabel(\"Number of users before filtering the outliers\")\n",
    "ax[0].set_ylabel(\"Revenue\")\n",
    "\n",
    "ax[1].scatter(x = pd.Series(range(0, len(Filtered_OrdersPerUser['num_of_orders']))), y = Filtered_OrdersPerUser['revenue'])\n",
    "ax[1].set_xlabel(\"Number of users after filtering the outliers\")\n",
    "ax[1].set_ylabel(\"Revenue\")\n",
    "fig.tight_layout()\n",
    "plt.show()"
   ]
  },
  {
   "cell_type": "markdown",
   "id": "00041b5e",
   "metadata": {},
   "source": [
    "<b>Conclusion</b>\n",
    "\n",
    "Here, we can deduce that almost all the visitors brought in revenue not more than 2500. We can also see the visitors' revenue spread (the volume of visitors and the corresponding revenue). This also shows a few of the revenue that are above 2500. "
   ]
  },
  {
   "cell_type": "markdown",
   "id": "pleased-permit",
   "metadata": {},
   "source": [
    "<a id='stat_significance'></a>\n",
    "### Statistical Significance Calculations"
   ]
  },
  {
   "cell_type": "markdown",
   "id": "modified-lambda",
   "metadata": {},
   "source": [
    "<a id='stat_conversion_raw'></a>\n",
    "#### Statistical significance of the difference in conversion between the groups using the raw data.</b>"
   ]
  },
  {
   "cell_type": "code",
   "execution_count": 23,
   "id": "favorite-dylan",
   "metadata": {},
   "outputs": [],
   "source": [
    "# Group each group of new_orders by visitorId column and aggregate the transactionID. These new groups are for\n",
    "# visitors with at least one order.\n",
    "Raw_new_ordersA = (\n",
    "            new_orders[new_orders['group'] == 'A']\n",
    "            .groupby('visitorId', as_index=False)\n",
    "            .agg({'transactionId': pd.Series.nunique})\n",
    "            )\n",
    "Raw_new_ordersA.columns = ('visitorId', 'num_of_orders')\n",
    "\n",
    "Raw_new_ordersB = (\n",
    "            new_orders[new_orders['group'] == 'B']\n",
    "            .groupby('visitorId', as_index=False)\n",
    "            .agg({'transactionId': pd.Series.nunique})\n",
    "            )\n",
    "Raw_new_ordersB.columns = ('visitorId', 'num_of_orders')\n",
    "\n",
    "# Find the number of visitors with 0 order in each group, apply np.arange to it, and convert it to a pd series\n",
    "ZeroOrdersA_series = (\n",
    "                pd\n",
    "                .Series(\n",
    "                0, np.arange(visits[visits['group'] == 'A']['visits'].sum() - len(Raw_new_ordersA['num_of_orders'])))\n",
    "                )\n",
    "\n",
    "ZeroOrdersB_series = (\n",
    "                pd\n",
    "                .Series(\n",
    "                0, np.arange(visits[visits['group'] == 'B']['visits'].sum() - len(Raw_new_ordersB['num_of_orders'])))\n",
    "                )\n",
    "\n",
    "# Concatenate the column containing the number of orders in each group and the Series containing the zero orders\n",
    "RawSampleA = pd.concat([ZeroOrdersA_series, Raw_new_ordersA['num_of_orders']], axis=0)\n",
    "\n",
    "RawSampleB = pd.concat([ZeroOrdersB_series, Raw_new_ordersB['num_of_orders']], axis=0)\n"
   ]
  },
  {
   "cell_type": "markdown",
   "id": "substantial-envelope",
   "metadata": {},
   "source": [
    "**Null Hypothesis:** There is no statistical significant difference in conversion between Group A and Group B.\n",
    "\n",
    "**Alternative Hypothesis:** There is a statistical significant difference in conversion between Group A and Group B"
   ]
  },
  {
   "cell_type": "code",
   "execution_count": 24,
   "id": "african-kinase",
   "metadata": {
    "scrolled": true
   },
   "outputs": [
    {
     "name": "stdout",
     "output_type": "stream",
     "text": [
      "P-value: 0.011\n",
      "We reject the null hypothesis\n"
     ]
    },
    {
     "data": {
      "text/plain": [
       "'0.16'"
      ]
     },
     "metadata": {},
     "output_type": "display_data"
    }
   ],
   "source": [
    "# This is the p-value showing whether or not to reject the hypothesis that there exist any statistical difference \n",
    "# between the groups\n",
    "alpha = 0.05\n",
    "RawData_pvalue = stats.mannwhitneyu(RawSampleA, RawSampleB, alternative='two-sided')[1].round(3)\n",
    "print('P-value: {}'.format(RawData_pvalue))\n",
    "if (RawData_pvalue < alpha):\n",
    "    print('We reject the null hypothesis')\n",
    "else:\n",
    "    print(\"We can't reject the null hypothesis\")\n",
    "    \n",
    "# This is the relative conversion gain(if value is positive) or loss(if value is negative) for group B compared to \n",
    "# group A\n",
    "display(\"{0:.2f}\".format(RawSampleB.mean()/RawSampleA.mean()-1))"
   ]
  },
  {
   "cell_type": "markdown",
   "id": "5a633b55",
   "metadata": {},
   "source": [
    "<b>Conclusion</b>\n",
    "\n",
    "From the above hypothesis, our p-value(0.011) is less than our alpha(0.05) which leads to rejecting the null hypothesis that the statistical significance in conversion between Group A and Group B are equal. This implies that there is a difference in the statistical significance in conversion between Group A and Group B.\n",
    "\n",
    "Now, calculating the relative difference conversion for Group B in comparison to Group A, we have the result 0.16. Rejecting our null hypothesis also means that this relative difference of 16% did not happen by chance and that the difference, statistically, exists."
   ]
  },
  {
   "cell_type": "markdown",
   "id": "continued-cedar",
   "metadata": {},
   "source": [
    "<a id='stat_revenue_raw'></a>\n",
    "#### Statistical significance of the difference in average order size between the groups using the raw data."
   ]
  },
  {
   "cell_type": "markdown",
   "id": "administrative-negotiation",
   "metadata": {},
   "source": [
    "**Null Hypothesis:** There is no statistical significant difference in average order size between Group A and Group B in the raw data.\n",
    "\n",
    "**Alternative Hypothesis:** There is a statistical significant difference in average order size between Group A and Group B in the raw data."
   ]
  },
  {
   "cell_type": "code",
   "execution_count": 25,
   "id": "rapid-permit",
   "metadata": {
    "scrolled": true
   },
   "outputs": [
    {
     "name": "stdout",
     "output_type": "stream",
     "text": [
      "P_value: 0.86\n",
      "We can't reject the null hypothesis\n",
      "0.28\n"
     ]
    }
   ],
   "source": [
    "alpha = 0.05\n",
    "P_value = stats.mannwhitneyu(new_orders[new_orders['group']=='A']['revenue'],\\\n",
    "                             new_orders[new_orders['group']=='B']['revenue'], alternative='two-sided')[1]\n",
    "print('P_value: {0:.2f}'.format(P_value))\n",
    "if (P_value < alpha):\n",
    "    print('We reject the null hypothesis')\n",
    "else:\n",
    "    print(\"We can't reject the null hypothesis\")\n",
    "\n",
    "Raw_revenueA = new_orders[new_orders['group']=='A']['revenue']\n",
    "Raw_revenueB = new_orders[new_orders['group']=='B']['revenue']\n",
    "\n",
    "print('{0:.2f}'.format(Raw_revenueB.mean()/Raw_revenueA.mean() - 1))"
   ]
  },
  {
   "cell_type": "markdown",
   "id": "e3f73bea",
   "metadata": {},
   "source": [
    "<b>Conclusion</b>\n",
    "\n",
    "From the above test, our p_value(0.86) is greater than alpha meaning we can't reject the null hypothesis. There is no statistical significance difference in revenue between Group A and Group B. In other words, there is a 86% chance that the statistical significance of the average order size between Group A and Group B in the raw data are equal."
   ]
  },
  {
   "cell_type": "markdown",
   "id": "verbal-ecology",
   "metadata": {},
   "source": [
    "<a id='stat_conversion_filtered'></a>\n",
    "#### Statistical significance of the difference in conversion between the groups using the filtered data.\n",
    "\n",
    "Find the statistical significance of the difference in conversion between the groups using the filtered data."
   ]
  },
  {
   "cell_type": "markdown",
   "id": "irish-crime",
   "metadata": {},
   "source": [
    "We defined our anomalies as users with 2 or more orders and users with more than order size of 449.5."
   ]
  },
  {
   "cell_type": "code",
   "execution_count": 26,
   "id": "theoretical-printer",
   "metadata": {},
   "outputs": [],
   "source": [
    "# Filter out the anomaly visitors from the raw data\n",
    "Filtered_new_ordersA = Raw_new_ordersA[~(Raw_new_ordersA['visitorId'].isin(AbnormalUsers))]\n",
    "\n",
    "Filtered_new_ordersB = Raw_new_ordersB[~(Raw_new_ordersB['visitorId'].isin(AbnormalUsers))]\n",
    "\n",
    "# Concatenate the Series of zero order visitors with the \"num_of_orders\" column in the filtered orders\n",
    "FilteredSampleA = pd.concat([ZeroOrdersA_series, Filtered_new_ordersA['num_of_orders']], axis=0)\n",
    "\n",
    "FilteredSampleB = pd.concat([ZeroOrdersB_series, Filtered_new_ordersB['num_of_orders']], axis=0)\n"
   ]
  },
  {
   "cell_type": "markdown",
   "id": "rough-madonna",
   "metadata": {},
   "source": [
    "**Null Hypothesis:** There is no statistical significant difference in conversion between Group A and Group B for the filtered data\n",
    "\n",
    "**Alternative Hypothesis:** There is a statistical significant difference in conversion between Group A and Group B for the filtered data"
   ]
  },
  {
   "cell_type": "code",
   "execution_count": 27,
   "id": "careful-opportunity",
   "metadata": {},
   "outputs": [
    {
     "name": "stdout",
     "output_type": "stream",
     "text": [
      "p-value: 0.012\n",
      "We reject the null hypothesis.\n",
      "0.18\n"
     ]
    }
   ],
   "source": [
    "alpha = 0.05\n",
    "\n",
    "PValue = stats.mannwhitneyu(FilteredSampleA, FilteredSampleB, alternative='two-sided')[1].round(3)\n",
    "print('p-value: {}'.format(PValue))\n",
    "\n",
    "if PValue < alpha:\n",
    "    print('We reject the null hypothesis.')\n",
    "else:\n",
    "    print(\"We can't reject the null hypothesis\")\n",
    "\n",
    "# Calculate the relative gain in conversion of Group B in comparison with Group A\n",
    "print('{0:.2f}'.format(FilteredSampleB.mean()/FilteredSampleA.mean() - 1))"
   ]
  },
  {
   "cell_type": "markdown",
   "id": "889c2b09",
   "metadata": {},
   "source": [
    "<b>Conclusion</b>\n",
    "\n",
    "We tested the hypothesis that there is no statistical significant difference in conversion between Group A and Group B in the filtered data. The p-value (0.012) of our hypothesis, which is less than 0.05, shows we have to reject the null hypothesis. In other words, there is a statistical significant difference in conversion between Group A and Group B in the filtered data and there's only a 1.2% probability that they will be equal."
   ]
  },
  {
   "cell_type": "markdown",
   "id": "controlled-bread",
   "metadata": {},
   "source": [
    "<a id='stat_revenue_filtered'></a>\n",
    "#### Statistical significance of the difference in average order size between the groups using the filtered data."
   ]
  },
  {
   "cell_type": "markdown",
   "id": "banner-choir",
   "metadata": {},
   "source": [
    "**Null Hypothesis:** There is no statistical significant difference in average order size between Group A and Group B in the filtered data.\n",
    "\n",
    "**Alternative Hypothesis:** There is a statistical significant difference in average order size between Group A and Group B in the filtered data."
   ]
  },
  {
   "cell_type": "code",
   "execution_count": 28,
   "id": "ranging-thunder",
   "metadata": {},
   "outputs": [
    {
     "name": "stdout",
     "output_type": "stream",
     "text": [
      "p-value: 0.88\n",
      "We can't reject the null hypothesis.\n",
      "-0.009366653814532833\n"
     ]
    }
   ],
   "source": [
    "alpha = 0.05\n",
    "Filtered_order = new_orders[~new_orders['visitorId'].isin(AbnormalUsers)]\n",
    "P_Value = (\n",
    "    stats\n",
    "    .mannwhitneyu(Filtered_order[Filtered_order['group'] == 'A']['revenue'], \\\n",
    "                  Filtered_order[Filtered_order['group'] == 'B']['revenue'], alternative='two-sided')[1]\n",
    "    .round(2)\n",
    "    )\n",
    "print('p-value: {}'.format(P_Value))\n",
    "if P_Value < alpha:\n",
    "    print('We reject the null hypothesis.')\n",
    "else:\n",
    "    print(\"We can't reject the null hypothesis.\")\n",
    "\n",
    "# Calculating the relative difference in average order size of Group B in comparison to Group A in the filtered data\n",
    "Filtered_revenueA = Filtered_order[Filtered_order['group'] == 'A']['revenue']\n",
    "Filtered_revenueB = Filtered_order[Filtered_order['group'] == 'B']['revenue']\n",
    "\n",
    "print(Filtered_revenueB.mean()/Filtered_revenueA.mean() - 1)"
   ]
  },
  {
   "cell_type": "markdown",
   "id": "27317357",
   "metadata": {},
   "source": [
    "<b>Conclusion</b>\n",
    "\n",
    "In this hypothesis, with our p-value resulting to 0.88, we can't reject the null hypothesis. This means that there is a 88% chance that the statistical significance of the average order size of Group A and Group B in the filtered data are equal."
   ]
  },
  {
   "cell_type": "markdown",
   "id": "d0485a06",
   "metadata": {},
   "source": [
    "<a id='decision'></a>\n",
    "#### Result-Based Decision\n",
    "\n",
    "Conclusively, here are results of our hypothesis:\n",
    "\n",
    "* There is a statistical significant in difference in the conversion between Group A and Group B both in the raw and filtered data. Filtering out the outliers changed the relative conversion gain from 16% to 18%.\n",
    "* There is no statistical significant difference in average order size between Group A and Group B both in the raw and filtered data. So the relative difference of 28% (for raw data) and -0.9% (for the filtered data) in the average order size of Group B in comparison to Group A of the raw data is statistically insignificant. It happened by chance.\n",
    "\n",
    "So, based on our test results, we stop the test and consider Group B the leader."
   ]
  },
  {
   "cell_type": "markdown",
   "id": "983c0f8a",
   "metadata": {},
   "source": [
    "### Conclusion\n",
    "\n",
    "\n",
    "First of all, we preprocessed our datasets. The orders and visits files have their data columns in the wrong datatype. We converted them to the datetime datatype.\n",
    "\n",
    "* **Prioritizing hypotheses**\n",
    "    \n",
    "    In hypotheses prioritization, two methods are considered. ICE and RICE. These methods affects the order of priority of a hypothesis in different ways. Take an instance, according to ICE result, hypothesis 8 is with the highest priority but according to RICE calculation, it is at the 5th priority. This is because of its high impact, hight confidence, medium effort but a really low reach. Same goes to hypothesis 0. It ranks second in ICE calculation but 3rd in RICE calcultion. It has a high impact, hight confidence, medium effort but a low reach.\n",
    "    Having a low effort in both framework calculation goes a long way in increasing the priority of a hypothesis. But if a hypothesis has a low effort while other factors are low too, the chances of having a high priority will be low. Take an instance, hypothesis 4. Although it has a low effort, all other factors affecting the calculation of both frameworks are low and this resulted to it being the least in the decreasing order of priority for both frameworks.\n",
    "\n",
    "    So, for a hypothesis to have a high rank in RICE or/and ICE, the reach, impact, and confidence have to be high while the effort has to be low.\n",
    "\n",
    "* **The cumulative revenue and cumulative average order size by groups**\n",
    "    \n",
    "    For the cumulative revenue, Group A started off better than Group B till fifth day and the Group B increased. There is a huge increase in the cummulative revenue of Group B on the 19th day. This increase is caused by the revenue (19920.4) from a visitor from Group B. That is obviously an outlier. So, we cannot make conclusions at this point.\n",
    "    \n",
    "    For the cumulative average order size, there are also possible outliers in the cumulative average order. Group A started off higher than Group B, it dropped after the first day while Group B increased. Between the 12th and 18th day, Group A became higher than Group B again before Group B had a massive inclination.\n",
    "\n",
    "* **Convertion Rate by Groups**\n",
    "    \n",
    "    While both groups had peeking problems in conversion at the first 3 to 4 days, Group B significantly fluctuated. Then on the fourth and fifth day, Group B began to rise again while Group A declined. After the ninth day, Group A's declination started to swing between 0.024 and 0.026 while the inclination of Group B swung between 0.029 and 0.031.\n",
    "\n",
    "    This is to say that Group B had more conversion along the way than Group A.\n",
    "    \n",
    "* **The relative difference in conversion and cumulative average order size of one group over the other**\n",
    "   \n",
    "   We plotted a graph of the relative difference in conversion of Group B to Group A. From the graph, we see that although there was a rise and fall in the conversion before between the first day and 5th day of the test before an inclination, the conversion of Group B has the tendency to grow and stabilize around the mean while Group A has no such tendency. The results of Group B are better than that of Group A in term of conversion.\n",
    "   \n",
    "   We also plotted a graph of the relative difference in cumulative average order size of Group B to Group A. Here, at several points there are spikes and peaks. Which shows that there are outliers.\n",
    "   \n",
    "\n",
    "* **The statistical significance of the difference in conversion and average order size between the groups using the unfiltered data compared with the filtered data**\n",
    "\n",
    "    First, we filtered the data of users with 2 or more orders and users with more than order size of 449.5. \n",
    "    \n",
    "    From the results of our hypotheses,\n",
    "    \n",
    "    * There is a statistical significant in difference in the conversion between Group A and Group B both in the raw and filtered data. Filtering out the outliers changed the relative conversion gain from 16% to 18%.\n",
    "    * There is no statistical significant difference in average order size between Group A and Group B both in the raw and filtered data. So the relative difference of 28% (for raw data) and -0.9% (for the filtered data) in the average order size of Group B in comparison to Group A of the raw data is statistically insignificant. It happened by chance.\n",
    "\n",
    "#### Recommendation\n",
    "\n",
    "Based on the results of our hypotheses, tests, and calculation, we stop the test and consider Group B the leader."
   ]
  },
  {
   "cell_type": "code",
   "execution_count": null,
   "id": "417c8ff5",
   "metadata": {},
   "outputs": [],
   "source": []
  }
 ],
 "metadata": {
  "kernelspec": {
   "display_name": "Python 3",
   "language": "python",
   "name": "python3"
  },
  "language_info": {
   "codemirror_mode": {
    "name": "ipython",
    "version": 3
   },
   "file_extension": ".py",
   "mimetype": "text/x-python",
   "name": "python",
   "nbconvert_exporter": "python",
   "pygments_lexer": "ipython3",
   "version": "3.8.8"
  },
  "toc": {
   "base_numbering": 1,
   "nav_menu": {},
   "number_sections": true,
   "sideBar": true,
   "skip_h1_title": true,
   "title_cell": "Table of Contents",
   "title_sidebar": "Contents",
   "toc_cell": false,
   "toc_position": {},
   "toc_section_display": true,
   "toc_window_display": false
  }
 },
 "nbformat": 4,
 "nbformat_minor": 5
}
